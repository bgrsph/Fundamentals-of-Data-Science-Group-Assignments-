{
 "cells": [
  {
   "metadata": {},
   "cell_type": "markdown",
   "source": "# Exploratory Analysis",
   "id": "f6a021aeba263362"
  },
  {
   "metadata": {},
   "cell_type": "markdown",
   "source": "### 1- Extracting the education-related words from Unesco thesaurus (education group)",
   "id": "b51b52d4651b84cc"
  },
  {
   "metadata": {},
   "cell_type": "code",
   "source": [
    "# Import necessary libraries\n",
    "import requests\n",
    "import pandas as pd"
   ],
   "id": "b3457ad92132e7c5",
   "outputs": [],
   "execution_count": null
  },
  {
   "cell_type": "code",
   "id": "initial_id",
   "metadata": {
    "collapsed": true,
    "ExecuteTime": {
     "end_time": "2025-09-22T12:03:34.317624Z",
     "start_time": "2025-09-22T12:03:33.323798Z"
    }
   },
   "source": [
    "# Fetch the JSON file directly from URL\n",
    "educationGlossaryURL = \"https://id.loc.gov/authorities/subjects/sh85040989.json\"\n",
    "URLResponse = requests.get(educationGlossaryURL)\n",
    "educationGlossaryData = URLResponse.json()\n",
    "\n",
    "#Collect all the @value entries from the JSON, as education-related words are encoded within.\n",
    "education_related_terms = []\n",
    "for entry in educationGlossaryData:\n",
    "    for key,values in entry.items():\n",
    "        if isinstance(values, list):\n",
    "            for value in values:\n",
    "                if isinstance(value, dict) and \"@value\" in value:\n",
    "                    education_related_terms.append(value[\"@value\"])\n",
    "# Build a dataframe of unique terms\n",
    "df_education_related_terms = pd.DataFrame(education_related_terms, columns = [\"Education-related Key Word\"])\n",
    "print(df_education_related_terms.head(20))\n",
    "print(df_education_related_terms.tail(20))\n",
    "print(df_education_related_terms.size)"
   ],
   "outputs": [
    {
     "name": "stdout",
     "output_type": "stream",
     "text": [
      "                      Education-related Key Word\n",
      "0                     Human resource development\n",
      "1                          Pictures in education\n",
      "2                          Pictures in education\n",
      "3   150  $aEducation$xAustralian states$xFinance\n",
      "4          Education--Australian states--Finance\n",
      "5          Education--Australian states--Finance\n",
      "6                            Inclusive education\n",
      "7                            Inclusive education\n",
      "8           150  $aEducation$xEconometric models\n",
      "9                  Education--Econometric models\n",
      "10                 Education--Econometric models\n",
      "11             150  $aEducation$xReference books\n",
      "12                    Education--Reference books\n",
      "13                    Education--Reference books\n",
      "14                               Home and school\n",
      "15                               Home and school\n",
      "16                        Compensatory education\n",
      "17                        Compensatory education\n",
      "18                       Libraries and education\n",
      "19                       Libraries and education\n",
      "                            Education-related Key Word\n",
      "922               150  $aEducation$xCost effectiveness\n",
      "923                      Education--Cost effectiveness\n",
      "924                      Education--Cost effectiveness\n",
      "925                  150  $aEducation$xSafety measures\n",
      "926                         Education--Safety measures\n",
      "927                         Education--Safety measures\n",
      "928                           School city, state, etc.\n",
      "929                           School city, state, etc.\n",
      "930                       Museums--Educational aspects\n",
      "931                       Museums--Educational aspects\n",
      "932                                Children--Education\n",
      "933                            Multicultural education\n",
      "934                            Multicultural education\n",
      "935                     Sexual harassment in education\n",
      "936                     Sexual harassment in education\n",
      "937                                 Drama in education\n",
      "938                                 Drama in education\n",
      "939  150  $aEducation$xLaw and legislation$xU.S. st...\n",
      "940          Education--Law and legislation--US states\n",
      "941          Education--Law and legislation--US states\n",
      "942\n"
     ]
    }
   ],
   "execution_count": 28
  },
  {
   "metadata": {},
   "cell_type": "code",
   "source": [
    "# Remove the duplicates\n",
    "df_education_related_terms_clean = df_education_related_terms.drop_duplicates()\n",
    "print(df_education_related_terms_clean.head(20))\n",
    "print(df_education_related_terms_clean.size)"
   ],
   "id": "39043b6100610db9",
   "outputs": [],
   "execution_count": null
  },
  {
   "metadata": {},
   "cell_type": "code",
   "source": [
    "#Check whether any null field exists\n",
    "print(f\"Null entry exists? {df_education_related_terms_clean.isnull().values.any()}\")"
   ],
   "id": "88e0449043caf8c4",
   "outputs": [],
   "execution_count": null
  },
  {
   "metadata": {},
   "cell_type": "code",
   "source": [
    "#Remove the entries start with digits\n",
    "df_education_related_terms_clean = df_education_related_terms_clean[~df_education_related_terms_clean[\"Education-related Key Word\"].str[0].str.isdigit()]\n",
    "print(df_education_related_terms_clean.head(20))\n",
    "print(df_education_related_terms_clean.size)\n"
   ],
   "id": "50fd347436444228",
   "outputs": [],
   "execution_count": null
  },
  {
   "metadata": {},
   "cell_type": "code",
   "source": [
    "# Replace the double dash ('--') with white spaces\n",
    "df_education_related_terms_clean[\"Education-related Key Word\"] = df_education_related_terms_clean[\"Education-related Key Word\"].str.replace(\"--\", \" \")\n",
    "print(df_education_related_terms_clean.head(20))\n",
    "print(df_education_related_terms_clean.size)"
   ],
   "id": "96c5c9ae5dbb943c",
   "outputs": [],
   "execution_count": null
  },
  {
   "metadata": {},
   "cell_type": "code",
   "source": [
    "# Normalize all the whitespaces (i.e., only one space between words) & lowercase all entries\n",
    "df_education_related_terms_clean[\"Education-related Key Word\"] = df_education_related_terms_clean[\"Education-related Key Word\"].str.replace(r\"\\s\", \" \", regex=True).str.strip().str.lower()\n",
    "print(df_education_related_terms_clean.head(20))\n",
    "print(df_education_related_terms_clean.size)\n"
   ],
   "id": "dd08e5129a265f45",
   "outputs": [],
   "execution_count": null
  },
  {
   "metadata": {
    "ExecuteTime": {
     "end_time": "2025-09-22T12:09:58.918188Z",
     "start_time": "2025-09-22T12:09:58.916377Z"
    }
   },
   "cell_type": "code",
   "source": "# Convert all chacters to unicode? Keep like this for now until you see the UN corpus.",
   "id": "54058ebdc47e7b39",
   "outputs": [],
   "execution_count": 31
  },
  {
   "metadata": {},
   "cell_type": "markdown",
   "source": "## 2- Loading speeches text to table",
   "id": "8b406ab0a782d9b2"
  },
  {
   "metadata": {
    "ExecuteTime": {
     "end_time": "2025-09-22T12:11:35.654607Z",
     "start_time": "2025-09-22T12:11:35.650231Z"
    }
   },
   "cell_type": "code",
   "source": "",
   "id": "3be93e56792bb02e",
   "outputs": [],
   "execution_count": 32
  },
  {
   "metadata": {},
   "cell_type": "code",
   "outputs": [],
   "execution_count": null,
   "source": "",
   "id": "6d3b25e7276fc6be"
  }
 ],
 "metadata": {
  "kernelspec": {
   "display_name": "Python 3",
   "language": "python",
   "name": "python3"
  },
  "language_info": {
   "codemirror_mode": {
    "name": "ipython",
    "version": 2
   },
   "file_extension": ".py",
   "mimetype": "text/x-python",
   "name": "python",
   "nbconvert_exporter": "python",
   "pygments_lexer": "ipython2",
   "version": "2.7.6"
  }
 },
 "nbformat": 4,
 "nbformat_minor": 5
}

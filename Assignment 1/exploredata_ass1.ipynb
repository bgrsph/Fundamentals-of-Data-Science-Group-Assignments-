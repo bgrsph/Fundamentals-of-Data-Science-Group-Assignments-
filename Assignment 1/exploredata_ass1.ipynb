{
 "cells": [
  {
   "cell_type": "markdown",
   "id": "6ed17c63",
   "metadata": {},
   "source": [
    "# Literacy rate (%) dataset"
   ]
  },
  {
   "cell_type": "code",
   "id": "f9dc0f82",
   "metadata": {
    "ExecuteTime": {
     "end_time": "2025-09-21T18:24:18.524159Z",
     "start_time": "2025-09-21T18:24:16.449817Z"
    }
   },
   "source": [
    "import pandas as pd\n",
    "\n",
    "# Load the full dataset\n",
    "df = pd.read_csv(\"WB_GS_SE_ADT.csv\")\n",
    "\n",
    "# Inspect shape and first rows\n",
    "#print(df_all.shape)\n",
    "df.head(3)"
   ],
   "outputs": [
    {
     "data": {
      "text/plain": [
       "       STRUCTURE                STRUCTURE_ID ACTION FREQ FREQ_LABEL REF_AREA  \\\n",
       "0  datastructure  WB.DATA360:DS_DATA360(1.1)      I    A     Annual      ABW   \n",
       "1  datastructure  WB.DATA360:DS_DATA360(1.1)      I    A     Annual      AFE   \n",
       "2  datastructure  WB.DATA360:DS_DATA360(1.1)      I    A     Annual      AFG   \n",
       "\n",
       "                REF_AREA_LABEL     INDICATOR    INDICATOR_LABEL SEX  ...  \\\n",
       "0                        Aruba  WB_GS_SE_ADT  Literacy rate (%)   F  ...   \n",
       "1  Africa Eastern and Southern  WB_GS_SE_ADT  Literacy rate (%)   F  ...   \n",
       "2                  Afghanistan  WB_GS_SE_ADT  Literacy rate (%)   F  ...   \n",
       "\n",
       "  DATABASE_ID  DATABASE_ID_LABEL UNIT_MULT UNIT_MULT_LABEL UNIT_TYPE  \\\n",
       "0       WB_GS  Gender Statistics         0           Units     RATIO   \n",
       "1       WB_GS  Gender Statistics         0           Units     RATIO   \n",
       "2       WB_GS  Gender Statistics         0           Units     RATIO   \n",
       "\n",
       "  UNIT_TYPE_LABEL OBS_STATUS OBS_STATUS_LABEL OBS_CONF OBS_CONF_LABEL  \n",
       "0           Ratio          O    Missing value       PU         Public  \n",
       "1           Ratio          O    Missing value       PU         Public  \n",
       "2           Ratio          O    Missing value       PU         Public  \n",
       "\n",
       "[3 rows x 35 columns]"
      ],
      "text/html": [
       "<div>\n",
       "<style scoped>\n",
       "    .dataframe tbody tr th:only-of-type {\n",
       "        vertical-align: middle;\n",
       "    }\n",
       "\n",
       "    .dataframe tbody tr th {\n",
       "        vertical-align: top;\n",
       "    }\n",
       "\n",
       "    .dataframe thead th {\n",
       "        text-align: right;\n",
       "    }\n",
       "</style>\n",
       "<table border=\"1\" class=\"dataframe\">\n",
       "  <thead>\n",
       "    <tr style=\"text-align: right;\">\n",
       "      <th></th>\n",
       "      <th>STRUCTURE</th>\n",
       "      <th>STRUCTURE_ID</th>\n",
       "      <th>ACTION</th>\n",
       "      <th>FREQ</th>\n",
       "      <th>FREQ_LABEL</th>\n",
       "      <th>REF_AREA</th>\n",
       "      <th>REF_AREA_LABEL</th>\n",
       "      <th>INDICATOR</th>\n",
       "      <th>INDICATOR_LABEL</th>\n",
       "      <th>SEX</th>\n",
       "      <th>...</th>\n",
       "      <th>DATABASE_ID</th>\n",
       "      <th>DATABASE_ID_LABEL</th>\n",
       "      <th>UNIT_MULT</th>\n",
       "      <th>UNIT_MULT_LABEL</th>\n",
       "      <th>UNIT_TYPE</th>\n",
       "      <th>UNIT_TYPE_LABEL</th>\n",
       "      <th>OBS_STATUS</th>\n",
       "      <th>OBS_STATUS_LABEL</th>\n",
       "      <th>OBS_CONF</th>\n",
       "      <th>OBS_CONF_LABEL</th>\n",
       "    </tr>\n",
       "  </thead>\n",
       "  <tbody>\n",
       "    <tr>\n",
       "      <th>0</th>\n",
       "      <td>datastructure</td>\n",
       "      <td>WB.DATA360:DS_DATA360(1.1)</td>\n",
       "      <td>I</td>\n",
       "      <td>A</td>\n",
       "      <td>Annual</td>\n",
       "      <td>ABW</td>\n",
       "      <td>Aruba</td>\n",
       "      <td>WB_GS_SE_ADT</td>\n",
       "      <td>Literacy rate (%)</td>\n",
       "      <td>F</td>\n",
       "      <td>...</td>\n",
       "      <td>WB_GS</td>\n",
       "      <td>Gender Statistics</td>\n",
       "      <td>0</td>\n",
       "      <td>Units</td>\n",
       "      <td>RATIO</td>\n",
       "      <td>Ratio</td>\n",
       "      <td>O</td>\n",
       "      <td>Missing value</td>\n",
       "      <td>PU</td>\n",
       "      <td>Public</td>\n",
       "    </tr>\n",
       "    <tr>\n",
       "      <th>1</th>\n",
       "      <td>datastructure</td>\n",
       "      <td>WB.DATA360:DS_DATA360(1.1)</td>\n",
       "      <td>I</td>\n",
       "      <td>A</td>\n",
       "      <td>Annual</td>\n",
       "      <td>AFE</td>\n",
       "      <td>Africa Eastern and Southern</td>\n",
       "      <td>WB_GS_SE_ADT</td>\n",
       "      <td>Literacy rate (%)</td>\n",
       "      <td>F</td>\n",
       "      <td>...</td>\n",
       "      <td>WB_GS</td>\n",
       "      <td>Gender Statistics</td>\n",
       "      <td>0</td>\n",
       "      <td>Units</td>\n",
       "      <td>RATIO</td>\n",
       "      <td>Ratio</td>\n",
       "      <td>O</td>\n",
       "      <td>Missing value</td>\n",
       "      <td>PU</td>\n",
       "      <td>Public</td>\n",
       "    </tr>\n",
       "    <tr>\n",
       "      <th>2</th>\n",
       "      <td>datastructure</td>\n",
       "      <td>WB.DATA360:DS_DATA360(1.1)</td>\n",
       "      <td>I</td>\n",
       "      <td>A</td>\n",
       "      <td>Annual</td>\n",
       "      <td>AFG</td>\n",
       "      <td>Afghanistan</td>\n",
       "      <td>WB_GS_SE_ADT</td>\n",
       "      <td>Literacy rate (%)</td>\n",
       "      <td>F</td>\n",
       "      <td>...</td>\n",
       "      <td>WB_GS</td>\n",
       "      <td>Gender Statistics</td>\n",
       "      <td>0</td>\n",
       "      <td>Units</td>\n",
       "      <td>RATIO</td>\n",
       "      <td>Ratio</td>\n",
       "      <td>O</td>\n",
       "      <td>Missing value</td>\n",
       "      <td>PU</td>\n",
       "      <td>Public</td>\n",
       "    </tr>\n",
       "  </tbody>\n",
       "</table>\n",
       "<p>3 rows × 35 columns</p>\n",
       "</div>"
      ]
     },
     "execution_count": 1,
     "metadata": {},
     "output_type": "execute_result"
    }
   ],
   "execution_count": 1
  },
  {
   "cell_type": "code",
   "execution_count": 61,
   "id": "7f50f878",
   "metadata": {},
   "outputs": [
    {
     "name": "stdout",
     "output_type": "stream",
     "text": [
      "Index(['STRUCTURE', 'STRUCTURE_ID', 'ACTION', 'FREQ', 'FREQ_LABEL', 'REF_AREA',\n",
      "       'REF_AREA_LABEL', 'INDICATOR', 'INDICATOR_LABEL', 'SEX', 'SEX_LABEL',\n",
      "       'AGE', 'AGE_LABEL', 'URBANISATION', 'URBANISATION_LABEL',\n",
      "       'UNIT_MEASURE', 'UNIT_MEASURE_LABEL', 'COMP_BREAKDOWN_1',\n",
      "       'COMP_BREAKDOWN_1_LABEL', 'COMP_BREAKDOWN_2', 'COMP_BREAKDOWN_2_LABEL',\n",
      "       'COMP_BREAKDOWN_3', 'COMP_BREAKDOWN_3_LABEL', 'TIME_PERIOD',\n",
      "       'OBS_VALUE', 'DATABASE_ID', 'DATABASE_ID_LABEL', 'UNIT_MULT',\n",
      "       'UNIT_MULT_LABEL', 'UNIT_TYPE', 'UNIT_TYPE_LABEL', 'OBS_STATUS',\n",
      "       'OBS_STATUS_LABEL', 'OBS_CONF', 'OBS_CONF_LABEL'],\n",
      "      dtype='object')\n"
     ]
    }
   ],
   "source": [
    "print(df.columns)"
   ]
  },
  {
   "cell_type": "code",
   "execution_count": 62,
   "id": "438d4118",
   "metadata": {},
   "outputs": [
    {
     "name": "stdout",
     "output_type": "stream",
     "text": [
      "(101760, 35)\n",
      "<class 'pandas.core.frame.DataFrame'>\n",
      "RangeIndex: 101760 entries, 0 to 101759\n",
      "Data columns (total 35 columns):\n",
      " #   Column                  Non-Null Count   Dtype  \n",
      "---  ------                  --------------   -----  \n",
      " 0   STRUCTURE               101760 non-null  object \n",
      " 1   STRUCTURE_ID            101760 non-null  object \n",
      " 2   ACTION                  101760 non-null  object \n",
      " 3   FREQ                    101760 non-null  object \n",
      " 4   FREQ_LABEL              101760 non-null  object \n",
      " 5   REF_AREA                101760 non-null  object \n",
      " 6   REF_AREA_LABEL          101760 non-null  object \n",
      " 7   INDICATOR               101760 non-null  object \n",
      " 8   INDICATOR_LABEL         101760 non-null  object \n",
      " 9   SEX                     101760 non-null  object \n",
      " 10  SEX_LABEL               101760 non-null  object \n",
      " 11  AGE                     101760 non-null  object \n",
      " 12  AGE_LABEL               101760 non-null  object \n",
      " 13  URBANISATION            101760 non-null  object \n",
      " 14  URBANISATION_LABEL      101760 non-null  object \n",
      " 15  UNIT_MEASURE            101760 non-null  object \n",
      " 16  UNIT_MEASURE_LABEL      101760 non-null  object \n",
      " 17  COMP_BREAKDOWN_1        101760 non-null  object \n",
      " 18  COMP_BREAKDOWN_1_LABEL  101760 non-null  object \n",
      " 19  COMP_BREAKDOWN_2        101760 non-null  object \n",
      " 20  COMP_BREAKDOWN_2_LABEL  101760 non-null  object \n",
      " 21  COMP_BREAKDOWN_3        101760 non-null  object \n",
      " 22  COMP_BREAKDOWN_3_LABEL  101760 non-null  object \n",
      " 23  TIME_PERIOD             101760 non-null  int64  \n",
      " 24  OBS_VALUE               16961 non-null   float64\n",
      " 25  DATABASE_ID             101760 non-null  object \n",
      " 26  DATABASE_ID_LABEL       101760 non-null  object \n",
      " 27  UNIT_MULT               101760 non-null  int64  \n",
      " 28  UNIT_MULT_LABEL         101760 non-null  object \n",
      " 29  UNIT_TYPE               101760 non-null  object \n",
      " 30  UNIT_TYPE_LABEL         101760 non-null  object \n",
      " 31  OBS_STATUS              101760 non-null  object \n",
      " 32  OBS_STATUS_LABEL        101760 non-null  object \n",
      " 33  OBS_CONF                101760 non-null  object \n",
      " 34  OBS_CONF_LABEL          101760 non-null  object \n",
      "dtypes: float64(1), int64(2), object(32)\n",
      "memory usage: 27.2+ MB\n",
      "None\n"
     ]
    }
   ],
   "source": [
    "print(df.shape)       # rows × columns\n",
    "print(df.info())      # column names + types"
   ]
  },
  {
   "cell_type": "code",
   "execution_count": 63,
   "id": "b4d73324",
   "metadata": {},
   "outputs": [
    {
     "name": "stdout",
     "output_type": "stream",
     "text": [
      "Countries/Regions: 265\n",
      "['Aruba' 'Africa Eastern and Southern' 'Afghanistan'\n",
      " 'Africa Western and Central' 'Angola' 'Albania' 'Andorra' 'Arab World'\n",
      " 'United Arab Emirates' 'Argentina']\n",
      "Sex categories: ['Female' 'Male' 'Total']\n",
      "Age groups: ['15 to 24 years old' '15 years old and over']\n",
      "Urbanisation categories: ['Total']\n",
      "Indicators: ['Literacy rate (%)']\n"
     ]
    }
   ],
   "source": [
    "print(\"Countries/Regions:\", df[\"REF_AREA_LABEL\"].nunique())\n",
    "print(df[\"REF_AREA_LABEL\"].unique()[:10])   # first 10 countries\n",
    "\n",
    "print(\"Sex categories:\", df[\"SEX_LABEL\"].unique())\n",
    "print(\"Age groups:\", df[\"AGE_LABEL\"].unique())\n",
    "print(\"Urbanisation categories:\", df[\"URBANISATION_LABEL\"].unique())\n",
    "print(\"Indicators:\", df[\"INDICATOR_LABEL\"].unique())"
   ]
  },
  {
   "cell_type": "code",
   "execution_count": 64,
   "id": "c88e15e4",
   "metadata": {},
   "outputs": [
    {
     "name": "stdout",
     "output_type": "stream",
     "text": [
      "Year range: 1960 - 2023\n"
     ]
    }
   ],
   "source": [
    "print(\"Year range:\", df[\"TIME_PERIOD\"].min(), \"-\", df[\"TIME_PERIOD\"].max())"
   ]
  },
  {
   "cell_type": "code",
   "execution_count": 65,
   "id": "820162df",
   "metadata": {},
   "outputs": [
    {
     "name": "stdout",
     "output_type": "stream",
     "text": [
      "83.33235062893081 % missing\n"
     ]
    }
   ],
   "source": [
    "print(df[\"OBS_VALUE\"].isna().mean() * 100, \"% missing\")"
   ]
  },
  {
   "cell_type": "code",
   "execution_count": 66,
   "id": "e26acfdc",
   "metadata": {},
   "outputs": [
    {
     "name": "stdout",
     "output_type": "stream",
     "text": [
      "count    16961.000000\n",
      "mean        79.677912\n",
      "std         18.688903\n",
      "min          3.390590\n",
      "25%         67.381653\n",
      "50%         84.857941\n",
      "75%         96.108879\n",
      "max        100.000000\n",
      "Name: OBS_VALUE, dtype: float64\n"
     ]
    }
   ],
   "source": [
    "print(df[\"OBS_VALUE\"].describe())"
   ]
  },
  {
   "cell_type": "code",
   "execution_count": 67,
   "id": "06fccc94",
   "metadata": {},
   "outputs": [
    {
     "data": {
      "image/png": "[encoded data removed]",
      "text/plain": [
       "<Figure size 640x480 with 1 Axes>"
      ]
     },
     "metadata": {},
     "output_type": "display_data"
    }
   ],
   "source": [
    "import matplotlib.pyplot as plt\n",
    "\n",
    "afg = df[df[\"REF_AREA_LABEL\"] == \"Spain\"]\n",
    "afg.groupby(\"TIME_PERIOD\")[\"OBS_VALUE\"].mean().plot()\n",
    "plt.title(\"Literacy rate (Spain)\")\n",
    "plt.ylabel(\"%\")\n",
    "plt.show()\n"
   ]
  },
  {
   "cell_type": "markdown",
   "id": "726a0af3",
   "metadata": {},
   "source": [
    "# Government expenditure on education as a percentage of GDP (%)"
   ]
  },
  {
   "cell_type": "code",
   "execution_count": 68,
   "id": "453f8fca",
   "metadata": {},
   "outputs": [
    {
     "name": "stdout",
     "output_type": "stream",
     "text": [
      "(5334, 45)\n",
      "       STRUCTURE                STRUCTURE_ID ACTION FREQ FREQ_LABEL REF_AREA  \\\n",
      "0  datastructure  WB.DATA360:DS_DATA360(1.2)      I    A     Annual      ABW   \n",
      "1  datastructure  WB.DATA360:DS_DATA360(1.2)      I    A     Annual      ABW   \n",
      "2  datastructure  WB.DATA360:DS_DATA360(1.2)      I    A     Annual      ABW   \n",
      "\n",
      "  REF_AREA_LABEL               INDICATOR  \\\n",
      "0          Aruba  UIS_EDSTATS_XGDP_FSGOV   \n",
      "1          Aruba  UIS_EDSTATS_XGDP_FSGOV   \n",
      "2          Aruba  UIS_EDSTATS_XGDP_FSGOV   \n",
      "\n",
      "                                     INDICATOR_LABEL SEX  ...  \\\n",
      "0  Government expenditure on education as a perce...  _T  ...   \n",
      "1  Government expenditure on education as a perce...  _T  ...   \n",
      "2  Government expenditure on education as a perce...  _T  ...   \n",
      "\n",
      "      DATA_SOURCE_LABEL UNIT_TYPE UNIT_TYPE_LABEL TIME_FORMAT  \\\n",
      "0  Education Statistics     RATIO           Ratio         602   \n",
      "1  Education Statistics     RATIO           Ratio         602   \n",
      "2  Education Statistics     RATIO           Ratio         602   \n",
      "\n",
      "  TIME_FORMAT_LABEL COMMENT_OBS OBS_STATUS OBS_STATUS_LABEL OBS_CONF  \\\n",
      "0              CCYY         NaN          A     Normal value       PU   \n",
      "1              CCYY         NaN          A     Normal value       PU   \n",
      "2              CCYY         NaN          A     Normal value       PU   \n",
      "\n",
      "  OBS_CONF_LABEL  \n",
      "0         Public  \n",
      "1         Public  \n",
      "2         Public  \n",
      "\n",
      "[3 rows x 45 columns]\n",
      "Index(['STRUCTURE', 'STRUCTURE_ID', 'ACTION', 'FREQ', 'FREQ_LABEL', 'REF_AREA',\n",
      "       'REF_AREA_LABEL', 'INDICATOR', 'INDICATOR_LABEL', 'SEX', 'SEX_LABEL',\n",
      "       'AGE', 'AGE_LABEL', 'URBANISATION', 'URBANISATION_LABEL',\n",
      "       'UNIT_MEASURE', 'UNIT_MEASURE_LABEL', 'COMP_BREAKDOWN_1',\n",
      "       'COMP_BREAKDOWN_1_LABEL', 'COMP_BREAKDOWN_2', 'COMP_BREAKDOWN_2_LABEL',\n",
      "       'COMP_BREAKDOWN_3', 'COMP_BREAKDOWN_3_LABEL', 'TIME_PERIOD',\n",
      "       'OBS_VALUE', 'AGG_METHOD', 'AGG_METHOD_LABEL', 'DECIMALS',\n",
      "       'DECIMALS_LABEL', 'DATABASE_ID', 'DATABASE_ID_LABEL', 'COMMENT_TS',\n",
      "       'UNIT_MULT', 'UNIT_MULT_LABEL', 'DATA_SOURCE', 'DATA_SOURCE_LABEL',\n",
      "       'UNIT_TYPE', 'UNIT_TYPE_LABEL', 'TIME_FORMAT', 'TIME_FORMAT_LABEL',\n",
      "       'COMMENT_OBS', 'OBS_STATUS', 'OBS_STATUS_LABEL', 'OBS_CONF',\n",
      "       'OBS_CONF_LABEL'],\n",
      "      dtype='object')\n"
     ]
    }
   ],
   "source": [
    "import pandas as pd\n",
    "\n",
    "# Load CSV\n",
    "df_edu = pd.read_csv(\"UIS_EDSTATS_XGDP_FSGOV.csv\")\n",
    "\n",
    "# Basic info\n",
    "print(df_edu.shape)\n",
    "print(df_edu.head(3))\n",
    "\n",
    "# Check available columns\n",
    "print(df_edu.columns)"
   ]
  },
  {
   "cell_type": "code",
   "execution_count": 69,
   "id": "3877cfc5",
   "metadata": {},
   "outputs": [
    {
     "name": "stdout",
     "output_type": "stream",
     "text": [
      "Year range: 1970 - 2024\n"
     ]
    }
   ],
   "source": [
    "print(\"Year range:\", df_edu[\"TIME_PERIOD\"].min(), \"-\", df_edu[\"TIME_PERIOD\"].max())"
   ]
  },
  {
   "cell_type": "code",
   "execution_count": 70,
   "id": "28dd9e3b",
   "metadata": {},
   "outputs": [
    {
     "name": "stdout",
     "output_type": "stream",
     "text": [
      "Number of countries: 206\n",
      "['Aruba' 'Afghanistan' 'Angola' 'Anguilla' 'Albania' 'Andorra'\n",
      " 'United Arab Emirates' 'Argentina' 'Armenia' 'American Samoa']\n"
     ]
    }
   ],
   "source": [
    "print(\"Number of countries:\", df_edu[\"REF_AREA_LABEL\"].nunique())\n",
    "print(df_edu[\"REF_AREA_LABEL\"].unique()[:10])  # first 10"
   ]
  },
  {
   "cell_type": "code",
   "execution_count": 71,
   "id": "3be55f32",
   "metadata": {},
   "outputs": [
    {
     "name": "stdout",
     "output_type": "stream",
     "text": [
      "0.0 % missing\n"
     ]
    }
   ],
   "source": [
    "print(df_edu[\"OBS_VALUE\"].isna().mean() * 100, \"% missing\")"
   ]
  },
  {
   "cell_type": "code",
   "execution_count": 72,
   "id": "7a3801ca",
   "metadata": {},
   "outputs": [
    {
     "name": "stdout",
     "output_type": "stream",
     "text": [
      "count    5334.000000\n",
      "mean        4.352125\n",
      "std         2.146107\n",
      "min         0.000000\n",
      "25%         3.047476\n",
      "50%         4.192725\n",
      "75%         5.376110\n",
      "max        66.900307\n",
      "Name: OBS_VALUE, dtype: float64\n"
     ]
    }
   ],
   "source": [
    "print(df_edu[\"OBS_VALUE\"].describe())"
   ]
  },
  {
   "cell_type": "code",
   "execution_count": 73,
   "id": "c536d8f8",
   "metadata": {},
   "outputs": [
    {
     "data": {
      "image/png": "[encoded data removed]",
      "text/plain": [
       "<Figure size 640x480 with 1 Axes>"
      ]
     },
     "metadata": {},
     "output_type": "display_data"
    }
   ],
   "source": [
    "import matplotlib.pyplot as plt\n",
    "\n",
    "aruba = df_edu[df_edu[\"REF_AREA_LABEL\"] == \"Aruba\"]\n",
    "aruba.plot(x=\"TIME_PERIOD\", y=\"OBS_VALUE\", marker=\"o\", legend=False)\n",
    "plt.title(\"Education expenditure (% of GDP) - Aruba\")\n",
    "plt.ylabel(\"% of GDP\")\n",
    "plt.show()"
   ]
  }
 ],
 "metadata": {
  "kernelspec": {
   "display_name": "FoDS",
   "language": "python",
   "name": "python3"
  },
  "language_info": {
   "codemirror_mode": {
    "name": "ipython",
    "version": 3
   },
   "file_extension": ".py",
   "mimetype": "text/x-python",
   "name": "python",
   "nbconvert_exporter": "python",
   "pygments_lexer": "ipython3",
   "version": "3.13.5"
  }
 },
 "nbformat": 4,
 "nbformat_minor": 5
}

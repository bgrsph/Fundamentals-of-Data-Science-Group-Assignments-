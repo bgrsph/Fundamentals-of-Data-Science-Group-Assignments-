{
 "cells": [
  {
   "cell_type": "markdown",
   "id": "ebe9ba58",
   "metadata": {},
   "source": [
    "## Libraries"
   ]
  },
  {
   "cell_type": "code",
   "execution_count": 3,
   "id": "4ac0ed29",
   "metadata": {},
   "outputs": [],
   "source": [
    "import networkx as nx\n",
    "import pandas as pd\n",
    "import numpy as np\n",
    "from sklearn.model_selection import train_test_split\n",
    "from sklearn.linear_model import LogisticRegression\n",
    "from sklearn.metrics import accuracy_score, roc_auc_score"
   ]
  },
  {
   "cell_type": "markdown",
   "id": "54ed7c52",
   "metadata": {},
   "source": [
    "## Load network and node attributes"
   ]
  },
  {
   "cell_type": "code",
   "execution_count": null,
   "id": "0c3ee608",
   "metadata": {},
   "outputs": [
    {
     "name": "stdout",
     "output_type": "stream",
     "text": [
      "Number of nodes: 1500\n",
      "Number of edges: 6600\n"
     ]
    }
   ],
   "source": [
    "# Load network\n",
    "G = nx.read_edgelist('edges_train.edgelist', delimiter=',', nodetype=int)\n",
    "\n",
    "# Load node attributes\n",
    "attributes = pd.read_csv('attributes.csv', header=None, names=['attribute'])\n",
    "\n",
    "# Build mapping: node_id -> attribute_value\n",
    "attr_map = dict(enumerate(attributes['attribute'].values))\n",
    "\n",
    "nx.set_node_attributes(G, attr_map, name='attribute')\n",
    "\n",
    "print(f\"Number of nodes: {G.number_of_nodes()}\")\n",
    "print(f\"Number of edges: {G.number_of_edges()}\")"
   ]
  },
  {
   "cell_type": "markdown",
   "id": "e439e1c6",
   "metadata": {},
   "source": [
    "## Feature engineering"
   ]
  },
  {
   "cell_type": "code",
   "execution_count": 10,
   "id": "bd0e033e",
   "metadata": {},
   "outputs": [],
   "source": [
    "def extract_features(G, u, v):\n",
    "    # Structural features\n",
    "    common_neighbors = len(list(nx.common_neighbors(G, u, v)))\n",
    "    degree_u = G.degree(u)\n",
    "    degree_v = G.degree(v)\n",
    "\n",
    "    # Same community / attribute\n",
    "    attr_u = G.nodes[u]['attribute']\n",
    "    attr_v = G.nodes[v]['attribute']\n",
    "    same_attr = int(attr_u == attr_v)\n",
    "\n",
    "    return [common_neighbors, degree_u, degree_v, same_attr]\n"
   ]
  },
  {
   "cell_type": "markdown",
   "id": "715153a7",
   "metadata": {},
   "source": [
    "## Get positive and negative example"
   ]
  },
  {
   "cell_type": "code",
   "execution_count": 11,
   "id": "fed9f817",
   "metadata": {},
   "outputs": [],
   "source": [
    "# Positive examples (existing edges)\n",
    "positive_edges = list(G.edges())\n",
    "y_pos = np.ones(len(positive_edges))\n",
    "\n",
    "# Negative examples (non-existent edges)\n",
    "non_edges = list(nx.non_edges(G))\n",
    "np.random.shuffle(non_edges)\n",
    "negative_edges = non_edges[:len(positive_edges)]\n",
    "y_neg = np.zeros(len(negative_edges))\n",
    "\n",
    "# Combine\n",
    "edges = positive_edges + negative_edges\n",
    "y = np.concatenate([y_pos, y_neg])\n",
    "\n",
    "# Compute features\n",
    "X = np.array([extract_features(G, u, v) for u, v in edges])\n"
   ]
  },
  {
   "cell_type": "markdown",
   "id": "4924ed88",
   "metadata": {},
   "source": [
    "## Train and test split"
   ]
  },
  {
   "cell_type": "code",
   "execution_count": 12,
   "id": "c308a4fb",
   "metadata": {},
   "outputs": [],
   "source": [
    "X_train, X_test, y_train, y_test = train_test_split(\n",
    "    X, y, test_size=0.3, random_state=42, stratify=y\n",
    ")"
   ]
  },
  {
   "cell_type": "markdown",
   "id": "99d5ccf1",
   "metadata": {},
   "source": [
    "## Train supervised model"
   ]
  },
  {
   "cell_type": "code",
   "execution_count": 13,
   "id": "3f66fbc4",
   "metadata": {},
   "outputs": [
    {
     "name": "stdout",
     "output_type": "stream",
     "text": [
      "Accuracy: 0.822979797979798\n",
      "ROC-AUC: 0.822979797979798\n"
     ]
    }
   ],
   "source": [
    "model = LogisticRegression(max_iter=1000)\n",
    "model.fit(X_train, y_train)\n",
    "\n",
    "y_pred = model.predict(X_test)\n",
    "print(\"Accuracy:\", accuracy_score(y_test, y_pred))\n",
    "print(\"ROC-AUC:\", roc_auc_score(y_test, y_pred))"
   ]
  },
  {
   "cell_type": "markdown",
   "id": "eca158d7",
   "metadata": {},
   "source": [
    "## Make predictions using solutionInput.csv and generate output for Kaggle competition"
   ]
  },
  {
   "cell_type": "code",
   "execution_count": null,
   "id": "37d25e09",
   "metadata": {},
   "outputs": [
    {
     "name": "stdout",
     "output_type": "stream",
     "text": [
      "Saved solutionOutput.csv ✅\n"
     ]
    }
   ],
   "source": [
    "test_pairs = pd.read_csv('solutionInput.csv')\n",
    "\n",
    "# Extract features for test pairs\n",
    "X_final = np.array([extract_features(G, int(u), int(v)) \n",
    "                    for u, v in zip(test_pairs['int1'], test_pairs['int2'])])\n",
    "\n",
    "preds = model.predict(X_final)\n",
    "\n",
    "# Save output for kaggle\n",
    "output = pd.DataFrame({\n",
    "    'ID': test_pairs.index,\n",
    "    'Predicted': preds.astype(int)\n",
    "})\n",
    "output.to_csv('solutionOutput.csv', index=False)\n"
   ]
  }
 ],
 "metadata": {
  "kernelspec": {
   "display_name": "FoDS",
   "language": "python",
   "name": "python3"
  },
  "language_info": {
   "codemirror_mode": {
    "name": "ipython",
    "version": 3
   },
   "file_extension": ".py",
   "mimetype": "text/x-python",
   "name": "python",
   "nbconvert_exporter": "python",
   "pygments_lexer": "ipython3",
   "version": "3.13.5"
  }
 },
 "nbformat": 4,
 "nbformat_minor": 5
}
